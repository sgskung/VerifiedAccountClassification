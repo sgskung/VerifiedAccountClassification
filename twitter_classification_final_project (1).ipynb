{
 "cells": [
  {
   "cell_type": "markdown",
   "metadata": {},
   "source": [
    "# Blue Check: Weighing the Validity of Twitter Verified as a Social Status Indicator"
   ]
  },
  {
   "cell_type": "markdown",
   "metadata": {},
   "source": [
    "#  1. Introduction\n",
    "\n",
    "Everybody wants to be famous. The benefits of having a strong social media presence are plentiful: brand deals, fans that’ll listen to what you have to say, and freedom to create business opportunities from your influence. At the apex of online celebrity status is the famed Blue Check, “Twitter Verified”, a cloud-shaped box next to your name that lets others know that you’re the real deal. Though being verified on Twitter is becoming synonymous with fame, fortune, and status, how accurate is it really at giving us an idea of who’s who, and to what extent is their verified standing an indication of their social media influence? Can we use data such as follower count, likes, or post activity to classify accounts, and correctly predict whether or not they are verified? To do this we used pushShift.io’s dataset collected using Twitter’s official accounts API (Pushsift.io, 2019). Due to the enormous nature of the original dataset (105 million users), we then used MS Excel to systematically sample 1000 accounts to perform our classification analysis. This dataset gives us a set of variables to work with, but we will mostly be focusing on the counts for followers, friends (mutuals), posts, and likes.\n"
   ]
  },
  {
   "cell_type": "markdown",
   "metadata": {},
   "source": [
    "# 2. Methods and Results"
   ]
  },
  {
   "cell_type": "markdown",
   "metadata": {},
   "source": [
    "First and foremost, we utilized these R libraries to perform our analysis:\n",
    "\n",
    "- Tidyverse (for cleaning/wrangling and visualization)\n",
    "- Caret (for the knn-classification algorithm)\n",
    "- Expss (for tables and labels)\n",
    "\n",
    "Because of the nature of our dataset, we deemed scaling, standardizing, and balancing our data was necessary before proceeding with our knn-classification. This is because accounts on Twitter usually have a disproportionate amount of likes compared to posts, or followers compared to posts, and so on. Thus, we utilized the preProcess function in caret to perform this task. Once we knew our data was properly set up, we split it into training/testing sets using a 0.75/0.25 split. After cleaning, analysis was performed to determine whether a twitter account is verified (class) based on three different groupings of variables: the number of followers, posts, likes, and friends (mutual followers). These were the numerical variables that could be used to determine the class. To determine which group of variables would produce the most accurate results, they were grouped into three pairings:\n",
    "\n",
    "- Follower+post count\n",
    "- Friend+like count\n",
    "- Follower, post, and like count. \n",
    "\n",
    "Using 10-fold cross-validation to choose k, the most accurate value for each group was determined by plotting k values as multiples of 10 against the prediction accuracy for that k value. The most accurate k value was found to be 1. Though we initially doubted using k = 1 because we thought it might skew the accuracy of our predictions (overfitting), further research indicated that using 1 as the k-value was actually the most optimal for our experiment in terms of efficiency and accuracy based on the superfluous nature of the dataset (\"Can k,\" 2020)).\n"
   ]
  },
  {
   "cell_type": "markdown",
   "metadata": {},
   "source": [
    "## 2.1 Installing Packages"
   ]
  },
  {
   "cell_type": "code",
   "execution_count": 1,
   "metadata": {},
   "outputs": [
    {
     "name": "stderr",
     "output_type": "stream",
     "text": [
      "Installing package into 'C:/Users/kenta/Documents/R/win-library/3.6'\n",
      "(as 'lib' is unspecified)\n",
      "\n"
     ]
    },
    {
     "name": "stdout",
     "output_type": "stream",
     "text": [
      "package 'expss' successfully unpacked and MD5 sums checked\n",
      "\n",
      "The downloaded binary packages are in\n",
      "\tC:\\Users\\kenta\\AppData\\Local\\Temp\\RtmpMPO361\\downloaded_packages\n"
     ]
    }
   ],
   "source": [
    "install.packages(\"expss\")"
   ]
  },
  {
   "cell_type": "code",
   "execution_count": 2,
   "metadata": {},
   "outputs": [
    {
     "name": "stderr",
     "output_type": "stream",
     "text": [
      "Warning message:\n",
      "\"package 'tidyverse' was built under R version 3.6.2\"\n",
      "-- \u001b[1mAttaching packages\u001b[22m --------------------------------------- tidyverse 1.3.0 --\n",
      "\n",
      "\u001b[32mv\u001b[39m \u001b[34mggplot2\u001b[39m 3.2.1     \u001b[32mv\u001b[39m \u001b[34mpurrr  \u001b[39m 0.3.3\n",
      "\u001b[32mv\u001b[39m \u001b[34mtibble \u001b[39m 2.1.3     \u001b[32mv\u001b[39m \u001b[34mdplyr  \u001b[39m 0.8.3\n",
      "\u001b[32mv\u001b[39m \u001b[34mtidyr  \u001b[39m 1.0.0     \u001b[32mv\u001b[39m \u001b[34mstringr\u001b[39m 1.4.0\n",
      "\u001b[32mv\u001b[39m \u001b[34mreadr  \u001b[39m 1.3.1     \u001b[32mv\u001b[39m \u001b[34mforcats\u001b[39m 0.4.0\n",
      "\n",
      "Warning message:\n",
      "\"package 'ggplot2' was built under R version 3.6.2\"\n",
      "Warning message:\n",
      "\"package 'tibble' was built under R version 3.6.2\"\n",
      "Warning message:\n",
      "\"package 'tidyr' was built under R version 3.6.2\"\n",
      "Warning message:\n",
      "\"package 'readr' was built under R version 3.6.2\"\n",
      "Warning message:\n",
      "\"package 'purrr' was built under R version 3.6.2\"\n",
      "Warning message:\n",
      "\"package 'dplyr' was built under R version 3.6.2\"\n",
      "Warning message:\n",
      "\"package 'stringr' was built under R version 3.6.2\"\n",
      "Warning message:\n",
      "\"package 'forcats' was built under R version 3.6.2\"\n",
      "-- \u001b[1mConflicts\u001b[22m ------------------------------------------ tidyverse_conflicts() --\n",
      "\u001b[31mx\u001b[39m \u001b[34mdplyr\u001b[39m::\u001b[32mfilter()\u001b[39m masks \u001b[34mstats\u001b[39m::filter()\n",
      "\u001b[31mx\u001b[39m \u001b[34mdplyr\u001b[39m::\u001b[32mlag()\u001b[39m    masks \u001b[34mstats\u001b[39m::lag()\n",
      "\n",
      "Warning message:\n",
      "\"package 'caret' was built under R version 3.6.2\"\n",
      "Loading required package: lattice\n",
      "\n",
      "\n",
      "Attaching package: 'caret'\n",
      "\n",
      "\n",
      "The following object is masked from 'package:purrr':\n",
      "\n",
      "    lift\n",
      "\n",
      "\n",
      "Warning message:\n",
      "\"package 'expss' was built under R version 3.6.3\"\n",
      "\n",
      "Use 'expss_output_rnotebook()' to display tables inside R Notebooks.\n",
      " To return to the console output, use 'expss_output_default()'.\n",
      "\n",
      "\n",
      "\n",
      "Attaching package: 'expss'\n",
      "\n",
      "\n",
      "The following objects are masked from 'package:stringr':\n",
      "\n",
      "    fixed, regex\n",
      "\n",
      "\n",
      "The following objects are masked from 'package:dplyr':\n",
      "\n",
      "    between, compute, contains, first, last, na_if, recode, vars\n",
      "\n",
      "\n",
      "The following objects are masked from 'package:purrr':\n",
      "\n",
      "    keep, modify, modify_if, transpose, when\n",
      "\n",
      "\n",
      "The following objects are masked from 'package:tidyr':\n",
      "\n",
      "    contains, nest\n",
      "\n",
      "\n",
      "The following object is masked from 'package:ggplot2':\n",
      "\n",
      "    vars\n",
      "\n",
      "\n"
     ]
    }
   ],
   "source": [
    "library(\"tidyverse\")\n",
    "library(\"caret\")\n",
    "library(\"expss\")\n",
    "set.seed(1234)"
   ]
  },
  {
   "cell_type": "markdown",
   "metadata": {},
   "source": [
    "## 2.2 Reading and Checking Data "
   ]
  },
  {
   "cell_type": "code",
   "execution_count": 3,
   "metadata": {},
   "outputs": [
    {
     "name": "stderr",
     "output_type": "stream",
     "text": [
      "Parsed with column specification:\n",
      "cols(\n",
      "  Twitter_ID = \u001b[32mcol_double()\u001b[39m,\n",
      "  Twitter_User = \u001b[31mcol_character()\u001b[39m,\n",
      "  Creation_Date = \u001b[32mcol_double()\u001b[39m,\n",
      "  Follower_Count = \u001b[32mcol_double()\u001b[39m,\n",
      "  Friend_Count = \u001b[32mcol_double()\u001b[39m,\n",
      "  Post_Count = \u001b[32mcol_double()\u001b[39m,\n",
      "  Liked_Count = \u001b[32mcol_double()\u001b[39m,\n",
      "  List_Count = \u001b[32mcol_double()\u001b[39m,\n",
      "  Language = \u001b[31mcol_character()\u001b[39m,\n",
      "  is_protected = \u001b[32mcol_double()\u001b[39m,\n",
      "  is_verified = \u001b[32mcol_double()\u001b[39m\n",
      ")\n",
      "\n"
     ]
    },
    {
     "data": {
      "text/html": [
       "<ol>\n",
       "\t<li>'Table 1. Twitter Verification Data'</li>\n",
       "\t<li><table>\n",
       "<caption>A tibble: 6 × 11</caption>\n",
       "<thead>\n",
       "\t<tr><th scope=col>Twitter_ID</th><th scope=col>Twitter_User</th><th scope=col>Creation_Date</th><th scope=col>Follower_Count</th><th scope=col>Friend_Count</th><th scope=col>Post_Count</th><th scope=col>Liked_Count</th><th scope=col>List_Count</th><th scope=col>Language</th><th scope=col>is_protected</th><th scope=col>is_verified</th></tr>\n",
       "\t<tr><th scope=col>&lt;dbl&gt;</th><th scope=col>&lt;chr&gt;</th><th scope=col>&lt;dbl&gt;</th><th scope=col>&lt;dbl&gt;</th><th scope=col>&lt;dbl&gt;</th><th scope=col>&lt;dbl&gt;</th><th scope=col>&lt;dbl&gt;</th><th scope=col>&lt;dbl&gt;</th><th scope=col>&lt;chr&gt;</th><th scope=col>&lt;fct&gt;</th><th scope=col>&lt;fct&gt;</th></tr>\n",
       "</thead>\n",
       "<tbody>\n",
       "\t<tr><td>9.99e+17</td><td>NintendoLaboFR</td><td>1526983527</td><td> 3014</td><td> 0</td><td> 10</td><td>  0</td><td> 5</td><td>en</td><td>0</td><td>Verified</td></tr>\n",
       "\t<tr><td>9.99e+17</td><td>Zero21Dec     </td><td>1526982877</td><td> 5829</td><td> 6</td><td>158</td><td>  1</td><td> 3</td><td>en</td><td>0</td><td>Verified</td></tr>\n",
       "\t<tr><td>9.99e+17</td><td>GoogleCloud_IN</td><td>1526951259</td><td>  368</td><td>90</td><td> 94</td><td>276</td><td> 1</td><td>en</td><td>0</td><td>Verified</td></tr>\n",
       "\t<tr><td>9.99e+17</td><td>tver_fwc      </td><td>1526909603</td><td> 4898</td><td>66</td><td> 89</td><td>  2</td><td>36</td><td>ja</td><td>0</td><td>Verified</td></tr>\n",
       "\t<tr><td>9.97e+17</td><td>ImKRUNKKK     </td><td>1526633047</td><td> 1323</td><td> 7</td><td> 25</td><td>  1</td><td> 1</td><td>en</td><td>0</td><td>Verified</td></tr>\n",
       "\t<tr><td>9.97e+17</td><td>PUBGEsports   </td><td>1526584590</td><td>17939</td><td>36</td><td> 48</td><td> 12</td><td>17</td><td>en</td><td>0</td><td>Verified</td></tr>\n",
       "</tbody>\n",
       "</table>\n",
       "</li>\n",
       "</ol>\n"
      ],
      "text/latex": [
       "\\begin{enumerate}\n",
       "\\item 'Table 1. Twitter Verification Data'\n",
       "\\item A tibble: 6 × 11\n",
       "\\begin{tabular}{lllllllllll}\n",
       " Twitter\\_ID & Twitter\\_User & Creation\\_Date & Follower\\_Count & Friend\\_Count & Post\\_Count & Liked\\_Count & List\\_Count & Language & is\\_protected & is\\_verified\\\\\n",
       " <dbl> & <chr> & <dbl> & <dbl> & <dbl> & <dbl> & <dbl> & <dbl> & <chr> & <fct> & <fct>\\\\\n",
       "\\hline\n",
       "\t 9.99e+17 & NintendoLaboFR & 1526983527 &  3014 &  0 &  10 &   0 &  5 & en & 0 & Verified\\\\\n",
       "\t 9.99e+17 & Zero21Dec      & 1526982877 &  5829 &  6 & 158 &   1 &  3 & en & 0 & Verified\\\\\n",
       "\t 9.99e+17 & GoogleCloud\\_IN & 1526951259 &   368 & 90 &  94 & 276 &  1 & en & 0 & Verified\\\\\n",
       "\t 9.99e+17 & tver\\_fwc       & 1526909603 &  4898 & 66 &  89 &   2 & 36 & ja & 0 & Verified\\\\\n",
       "\t 9.97e+17 & ImKRUNKKK      & 1526633047 &  1323 &  7 &  25 &   1 &  1 & en & 0 & Verified\\\\\n",
       "\t 9.97e+17 & PUBGEsports    & 1526584590 & 17939 & 36 &  48 &  12 & 17 & en & 0 & Verified\\\\\n",
       "\\end{tabular}\n",
       "\n",
       "\\end{enumerate}\n"
      ],
      "text/markdown": [
       "1. 'Table 1. Twitter Verification Data'\n",
       "2. \n",
       "A tibble: 6 × 11\n",
       "\n",
       "| Twitter_ID &lt;dbl&gt; | Twitter_User &lt;chr&gt; | Creation_Date &lt;dbl&gt; | Follower_Count &lt;dbl&gt; | Friend_Count &lt;dbl&gt; | Post_Count &lt;dbl&gt; | Liked_Count &lt;dbl&gt; | List_Count &lt;dbl&gt; | Language &lt;chr&gt; | is_protected &lt;fct&gt; | is_verified &lt;fct&gt; |\n",
       "|---|---|---|---|---|---|---|---|---|---|---|\n",
       "| 9.99e+17 | NintendoLaboFR | 1526983527 |  3014 |  0 |  10 |   0 |  5 | en | 0 | Verified |\n",
       "| 9.99e+17 | Zero21Dec      | 1526982877 |  5829 |  6 | 158 |   1 |  3 | en | 0 | Verified |\n",
       "| 9.99e+17 | GoogleCloud_IN | 1526951259 |   368 | 90 |  94 | 276 |  1 | en | 0 | Verified |\n",
       "| 9.99e+17 | tver_fwc       | 1526909603 |  4898 | 66 |  89 |   2 | 36 | ja | 0 | Verified |\n",
       "| 9.97e+17 | ImKRUNKKK      | 1526633047 |  1323 |  7 |  25 |   1 |  1 | en | 0 | Verified |\n",
       "| 9.97e+17 | PUBGEsports    | 1526584590 | 17939 | 36 |  48 |  12 | 17 | en | 0 | Verified |\n",
       "\n",
       "\n",
       "\n",
       "\n"
      ],
      "text/plain": [
       "[[1]]\n",
       "[1] \"Table 1. Twitter Verification Data\"\n",
       "\n",
       "[[2]]\n",
       "\u001b[90m# A tibble: 6 x 11\u001b[39m\n",
       "  Twitter_ID Twitter_User Creation_Date Follower_Count Friend_Count Post_Count\n",
       "       \u001b[3m\u001b[90m<dbl>\u001b[39m\u001b[23m \u001b[3m\u001b[90m<chr>\u001b[39m\u001b[23m                \u001b[3m\u001b[90m<dbl>\u001b[39m\u001b[23m          \u001b[3m\u001b[90m<dbl>\u001b[39m\u001b[23m        \u001b[3m\u001b[90m<dbl>\u001b[39m\u001b[23m      \u001b[3m\u001b[90m<dbl>\u001b[39m\u001b[23m\n",
       "\u001b[90m1\u001b[39m    9.99\u001b[90me\u001b[39m17 NintendoLab~    \u001b[4m1\u001b[24m526\u001b[4m9\u001b[24m\u001b[4m8\u001b[24m\u001b[4m3\u001b[24m527           \u001b[4m3\u001b[24m014            0         10\n",
       "\u001b[90m2\u001b[39m    9.99\u001b[90me\u001b[39m17 Zero21Dec       \u001b[4m1\u001b[24m526\u001b[4m9\u001b[24m\u001b[4m8\u001b[24m\u001b[4m2\u001b[24m877           \u001b[4m5\u001b[24m829            6        158\n",
       "\u001b[90m3\u001b[39m    9.99\u001b[90me\u001b[39m17 GoogleCloud~    \u001b[4m1\u001b[24m526\u001b[4m9\u001b[24m\u001b[4m5\u001b[24m\u001b[4m1\u001b[24m259            368           90         94\n",
       "\u001b[90m4\u001b[39m    9.99\u001b[90me\u001b[39m17 tver_fwc        \u001b[4m1\u001b[24m526\u001b[4m9\u001b[24m\u001b[4m0\u001b[24m\u001b[4m9\u001b[24m603           \u001b[4m4\u001b[24m898           66         89\n",
       "\u001b[90m5\u001b[39m    9.97\u001b[90me\u001b[39m17 ImKRUNKKK       \u001b[4m1\u001b[24m526\u001b[4m6\u001b[24m\u001b[4m3\u001b[24m\u001b[4m3\u001b[24m047           \u001b[4m1\u001b[24m323            7         25\n",
       "\u001b[90m6\u001b[39m    9.97\u001b[90me\u001b[39m17 PUBGEsports     \u001b[4m1\u001b[24m526\u001b[4m5\u001b[24m\u001b[4m8\u001b[24m\u001b[4m4\u001b[24m590          \u001b[4m1\u001b[24m\u001b[4m7\u001b[24m939           36         48\n",
       "\u001b[90m# ... with 5 more variables: Liked_Count \u001b[3m\u001b[90m<dbl>\u001b[90m\u001b[23m, List_Count \u001b[3m\u001b[90m<dbl>\u001b[90m\u001b[23m,\n",
       "#   Language \u001b[3m\u001b[90m<chr>\u001b[90m\u001b[23m, is_protected \u001b[3m\u001b[90m<fct>\u001b[90m\u001b[23m, is_verified \u001b[3m\u001b[90m<fct>\u001b[90m\u001b[23m\u001b[39m\n"
      ]
     },
     "metadata": {},
     "output_type": "display_data"
    }
   ],
   "source": [
    "d <-read_csv(\"https://raw.githubusercontent.com/knt-tky-van/DSCI_100/master/twitterdata.csv\")\n",
    "\n",
    "\n",
    "d <- d %>%\n",
    "    mutate(is_verified=cut(is_verified, breaks=c(-1,0.5,Inf), labels=c(\"Unverified\",\"Verified\")))\n",
    "\n",
    "d$is_protected <- as.factor(d$is_protected)\n",
    "\n",
    "report <- list()\n",
    "report[[1]] <- \"Table 1. Twitter Verification Data\"\n",
    "report[[2]] <- head(d)\n",
    "report"
   ]
  },
  {
   "cell_type": "code",
   "execution_count": 4,
   "metadata": {},
   "outputs": [
    {
     "data": {
      "text/html": [
       "<style>\n",
       ".list-inline {list-style: none; margin:0; padding: 0}\n",
       ".list-inline>li {display: inline-block}\n",
       ".list-inline>li:not(:last-child)::after {content: \"\\00b7\"; padding: 0 .5ex}\n",
       "</style>\n",
       "<ol class=list-inline><li>'Unverified'</li><li>'Verified'</li></ol>\n"
      ],
      "text/latex": [
       "\\begin{enumerate*}\n",
       "\\item 'Unverified'\n",
       "\\item 'Verified'\n",
       "\\end{enumerate*}\n"
      ],
      "text/markdown": [
       "1. 'Unverified'\n",
       "2. 'Verified'\n",
       "\n",
       "\n"
      ],
      "text/plain": [
       "[1] \"Unverified\" \"Verified\"  "
      ]
     },
     "metadata": {},
     "output_type": "display_data"
    }
   ],
   "source": [
    "# To see if \"is_verified\" colum has something other than \"Unverified\" and \"Verified\"\n",
    "levels(d$is_verified)"
   ]
  },
  {
   "cell_type": "markdown",
   "metadata": {},
   "source": [
    "## 2.3 Balancing "
   ]
  },
  {
   "cell_type": "code",
   "execution_count": 5,
   "metadata": {},
   "outputs": [
    {
     "data": {
      "text/html": [
       "<ol>\n",
       "\t<li>'Table 2. The Number of Verified and Unverified Samples before Upsampling (0=Unverified, 1=Verified)'</li>\n",
       "\t<li><table>\n",
       "<caption>A tibble: 2 × 2</caption>\n",
       "<thead>\n",
       "\t<tr><th scope=col>Verification</th><th scope=col>n</th></tr>\n",
       "\t<tr><th scope=col>&lt;fct&gt;</th><th scope=col>&lt;int&gt;</th></tr>\n",
       "</thead>\n",
       "<tbody>\n",
       "\t<tr><td>Unverified</td><td>972</td></tr>\n",
       "\t<tr><td>Verified  </td><td> 28</td></tr>\n",
       "</tbody>\n",
       "</table>\n",
       "</li>\n",
       "</ol>\n"
      ],
      "text/latex": [
       "\\begin{enumerate}\n",
       "\\item 'Table 2. The Number of Verified and Unverified Samples before Upsampling (0=Unverified, 1=Verified)'\n",
       "\\item A tibble: 2 × 2\n",
       "\\begin{tabular}{ll}\n",
       " Verification & n\\\\\n",
       " <fct> & <int>\\\\\n",
       "\\hline\n",
       "\t Unverified & 972\\\\\n",
       "\t Verified   &  28\\\\\n",
       "\\end{tabular}\n",
       "\n",
       "\\end{enumerate}\n"
      ],
      "text/markdown": [
       "1. 'Table 2. The Number of Verified and Unverified Samples before Upsampling (0=Unverified, 1=Verified)'\n",
       "2. \n",
       "A tibble: 2 × 2\n",
       "\n",
       "| Verification &lt;fct&gt; | n &lt;int&gt; |\n",
       "|---|---|\n",
       "| Unverified | 972 |\n",
       "| Verified   |  28 |\n",
       "\n",
       "\n",
       "\n",
       "\n"
      ],
      "text/plain": [
       "[[1]]\n",
       "[1] \"Table 2. The Number of Verified and Unverified Samples before Upsampling (0=Unverified, 1=Verified)\"\n",
       "\n",
       "[[2]]\n",
       "\u001b[90m# A tibble: 2 x 2\u001b[39m\n",
       "  Verification     n\n",
       "  \u001b[3m\u001b[90m<fct>\u001b[39m\u001b[23m        \u001b[3m\u001b[90m<int>\u001b[39m\u001b[23m\n",
       "\u001b[90m1\u001b[39m Unverified     972\n",
       "\u001b[90m2\u001b[39m Verified        28\n"
      ]
     },
     "metadata": {},
     "output_type": "display_data"
    }
   ],
   "source": [
    "#Raw data\n",
    "Raw <- d %>% group_by(is_verified) %>% summarize(n = n()) %>% rename(Verification=is_verified)\n",
    "\n",
    "report_2 <- list()\n",
    "report_2[[1]] <- \"Table 2. The Number of Verified and Unverified Samples before Upsampling (0=Unverified, 1=Verified)\"\n",
    "report_2[[2]] <- Raw\n",
    "report_2"
   ]
  },
  {
   "cell_type": "code",
   "execution_count": 6,
   "metadata": {},
   "outputs": [
    {
     "data": {
      "text/html": [
       "<ol>\n",
       "\t<li>'Table 3. The Number of Verified and Unverified Samples after Upsampling (0=Unverified, 1=Verified)'</li>\n",
       "\t<li><table>\n",
       "<caption>A tibble: 2 × 2</caption>\n",
       "<thead>\n",
       "\t<tr><th scope=col>Verification</th><th scope=col>n</th></tr>\n",
       "\t<tr><th scope=col>&lt;fct&gt;</th><th scope=col>&lt;int&gt;</th></tr>\n",
       "</thead>\n",
       "<tbody>\n",
       "\t<tr><td>Unverified</td><td>972</td></tr>\n",
       "\t<tr><td>Verified  </td><td>972</td></tr>\n",
       "</tbody>\n",
       "</table>\n",
       "</li>\n",
       "</ol>\n"
      ],
      "text/latex": [
       "\\begin{enumerate}\n",
       "\\item 'Table 3. The Number of Verified and Unverified Samples after Upsampling (0=Unverified, 1=Verified)'\n",
       "\\item A tibble: 2 × 2\n",
       "\\begin{tabular}{ll}\n",
       " Verification & n\\\\\n",
       " <fct> & <int>\\\\\n",
       "\\hline\n",
       "\t Unverified & 972\\\\\n",
       "\t Verified   & 972\\\\\n",
       "\\end{tabular}\n",
       "\n",
       "\\end{enumerate}\n"
      ],
      "text/markdown": [
       "1. 'Table 3. The Number of Verified and Unverified Samples after Upsampling (0=Unverified, 1=Verified)'\n",
       "2. \n",
       "A tibble: 2 × 2\n",
       "\n",
       "| Verification &lt;fct&gt; | n &lt;int&gt; |\n",
       "|---|---|\n",
       "| Unverified | 972 |\n",
       "| Verified   | 972 |\n",
       "\n",
       "\n",
       "\n",
       "\n"
      ],
      "text/plain": [
       "[[1]]\n",
       "[1] \"Table 3. The Number of Verified and Unverified Samples after Upsampling (0=Unverified, 1=Verified)\"\n",
       "\n",
       "[[2]]\n",
       "\u001b[90m# A tibble: 2 x 2\u001b[39m\n",
       "  Verification     n\n",
       "  \u001b[3m\u001b[90m<fct>\u001b[39m\u001b[23m        \u001b[3m\u001b[90m<int>\u001b[39m\u001b[23m\n",
       "\u001b[90m1\u001b[39m Unverified     972\n",
       "\u001b[90m2\u001b[39m Verified       972\n"
      ]
     },
     "metadata": {},
     "output_type": "display_data"
    }
   ],
   "source": [
    "#After upsample\n",
    "data <- upSample(x = select(d, -is_verified),\n",
    "            　　　y = select(d,is_verified) %>% unlist(),\n",
    "                 yname=\"is_verified\")\n",
    "\n",
    "US <- data %>% \n",
    "        group_by(is_verified) %>%\n",
    "        summarize(n = n()) %>% \n",
    "        rename(Verification=is_verified)\n",
    "\n",
    "report_3 <- list()\n",
    "report_3[[1]] <- \"Table 3. The Number of Verified and Unverified Samples after Upsampling (0=Unverified, 1=Verified)\"\n",
    "report_3[[2]] <- US\n",
    "report_3"
   ]
  },
  {
   "cell_type": "markdown",
   "metadata": {},
   "source": [
    "## 2.4 Splitting Data into Training/Test Sets"
   ]
  },
  {
   "cell_type": "code",
   "execution_count": 7,
   "metadata": {},
   "outputs": [],
   "source": [
    "set_rows <- data %>% \n",
    "    select(is_verified) %>% \n",
    "    unlist() %>% \n",
    "    createDataPartition(p = 0.75, list = FALSE)\n",
    "    \n",
    "training_set <- data %>% slice(set_rows)\n",
    "test_set <- data %>% slice(-set_rows)\n",
    "\n",
    "scale_transformer <- preProcess(training_set, method = c(\"center\", \"scale\")) \n",
    "\n",
    "training_set <- predict(scale_transformer, training_set)\n",
    "test_set <- predict(scale_transformer, test_set)"
   ]
  },
  {
   "cell_type": "markdown",
   "metadata": {},
   "source": [
    "## 2.5 Summarize Raw Data and Training Data"
   ]
  },
  {
   "cell_type": "markdown",
   "metadata": {},
   "source": [
    "###  2.5a Raw Data"
   ]
  },
  {
   "cell_type": "code",
   "execution_count": 8,
   "metadata": {},
   "outputs": [
    {
     "data": {
      "text/plain": [
       "[[1]]\n",
       "[1] \"Table 4. Summary (Raw Data)\"\n",
       "\n",
       "[[2]]\n",
       " Follower_Count     Friend_Count         Post_Count        Liked_Count     \n",
       " Min.   :-0.3486   Min.   :-0.414567   Min.   :-0.29414   Min.   :-0.3203  \n",
       " 1st Qu.:-0.3470   1st Qu.:-0.372090   1st Qu.:-0.28061   1st Qu.:-0.3180  \n",
       " Median :-0.3217   Median :-0.253949   Median :-0.25356   Median :-0.2895  \n",
       " Mean   : 0.0000   Mean   : 0.000000   Mean   : 0.00000   Mean   : 0.0000  \n",
       " 3rd Qu.:-0.2428   3rd Qu.:-0.008374   3rd Qu.:-0.09551   3rd Qu.:-0.1056  \n",
       " Max.   : 4.7168   Max.   :12.862373   Max.   :16.55723   Max.   :11.2145  \n"
      ]
     },
     "metadata": {},
     "output_type": "display_data"
    }
   ],
   "source": [
    "report_4 <- list()\n",
    "report_4[[1]] <- \"Table 4. Summary (Raw Data)\"\n",
    "report_4[[2]] <- summary(training_set %>% select(Follower_Count,Friend_Count,Post_Count,Liked_Count))\n",
    "report_4"
   ]
  },
  {
   "cell_type": "code",
   "execution_count": 9,
   "metadata": {},
   "outputs": [
    {
     "data": {
      "text/html": [
       "0"
      ],
      "text/latex": [
       "0"
      ],
      "text/markdown": [
       "0"
      ],
      "text/plain": [
       "[1] 0"
      ]
     },
     "metadata": {},
     "output_type": "display_data"
    }
   ],
   "source": [
    "#how many rows are missing data\n",
    "sum(is.na(d))"
   ]
  },
  {
   "cell_type": "markdown",
   "metadata": {},
   "source": [
    "###  2.5b Training Data"
   ]
  },
  {
   "cell_type": "code",
   "execution_count": 10,
   "metadata": {},
   "outputs": [
    {
     "data": {
      "text/plain": [
       "[[1]]\n",
       "[1] \"Table 5. Summary (Training Data)\"\n",
       "\n",
       "[[2]]\n",
       " Follower_Count     Friend_Count         Post_Count        Liked_Count     \n",
       " Min.   :-0.3486   Min.   :-0.414567   Min.   :-0.29414   Min.   :-0.3203  \n",
       " 1st Qu.:-0.3470   1st Qu.:-0.372090   1st Qu.:-0.28061   1st Qu.:-0.3180  \n",
       " Median :-0.3217   Median :-0.253949   Median :-0.25356   Median :-0.2895  \n",
       " Mean   : 0.0000   Mean   : 0.000000   Mean   : 0.00000   Mean   : 0.0000  \n",
       " 3rd Qu.:-0.2428   3rd Qu.:-0.008374   3rd Qu.:-0.09551   3rd Qu.:-0.1056  \n",
       " Max.   : 4.7168   Max.   :12.862373   Max.   :16.55723   Max.   :11.2145  \n"
      ]
     },
     "metadata": {},
     "output_type": "display_data"
    }
   ],
   "source": [
    "report_5 <- list()\n",
    "report_5[[1]] <- \"Table 5. Summary (Training Data)\"\n",
    "report_5[[2]] <- summary(training_set %>% select(Follower_Count,Friend_Count,Post_Count,Liked_Count))\n",
    "report_5"
   ]
  },
  {
   "cell_type": "markdown",
   "metadata": {},
   "source": [
    "## 2.6 Visualize the Training Data"
   ]
  },
  {
   "cell_type": "code",
   "execution_count": 11,
   "metadata": {},
   "outputs": [
    {
     "name": "stderr",
     "output_type": "stream",
     "text": [
      "Warning message:\n",
      "\"package 'GGally' was built under R version 3.6.2\"\n",
      "Registered S3 method overwritten by 'GGally':\n",
      "  method from   \n",
      "  +.gg   ggplot2\n",
      "\n",
      "\n",
      "Attaching package: 'GGally'\n",
      "\n",
      "\n",
      "The following object is masked from 'package:dplyr':\n",
      "\n",
      "    nasa\n",
      "\n",
      "\n"
     ]
    },
    {
     "data": {
      "image/png": "[encoded data removed]",
      "text/plain": [
       "plot without title"
      ]
     },
     "metadata": {
      "image/png": {
       "height": 1200,
       "width": 1200
      },
      "text/plain": {
       "height": 1200,
       "width": 1200
      }
     },
     "output_type": "display_data"
    }
   ],
   "source": [
    "library(GGally)\n",
    "options(repr.plot.width = 20, repr.plot.height = 20) \n",
    "\n",
    "plot_pairs <- training_set %>% \n",
    "  select(Follower_Count,Friend_Count,Post_Count,Liked_Count,is_verified) %>% \n",
    "  \n",
    "  ggpairs(legend=5,\n",
    "          columns=1:4,\n",
    "          mapping = ggplot2::aes(color = is_verified),\n",
    "          upper=\"blank\",\n",
    "          diag = NULL)+\n",
    "\n",
    "          labs(color=\"Verification\")+\n",
    "\n",
    "          ggtitle(\"Figure 1. Distribution of Samples\") +\n",
    "\n",
    "          theme(plot.title = element_text(hjust = 1),\n",
    "                axis.text.x = element_text(hjust = 1, color = \"black\",size=20),\n",
    "                axis.text.y = element_text(hjust = 1, color = \"black\",size=20),\n",
    "                legend.position = \"bottom\")+\n",
    "        　 \n",
    "          theme_grey(base_size = 20)\n",
    "\n",
    "plot_pairs"
   ]
  },
  {
   "cell_type": "markdown",
   "metadata": {},
   "source": [
    "- In a plot of Follower_Count and Post_Count or in a plot of Friend_Count and Liked_Count, the clusters of verified and unverified accounts seem most exclusive and distinct to each other compared to other plots. In addition, the two plots of Follower_Count and Post_Count and of Follower_Count and Liked_Count are quite similar in terms of the distribution of the two clusters. Therefore, in the classification phase we will use those three patterns: Follower_Count + Post_Count, Friend_Count + Liked_Count, and Follower_Count + Post_Count + Liked_Count.\n"
   ]
  },
  {
   "cell_type": "markdown",
   "metadata": {},
   "source": [
    "## 2.7 Cleaning & Wrangling "
   ]
  },
  {
   "cell_type": "markdown",
   "metadata": {},
   "source": [
    "- It was not necessary to clean and wrangle the original data since it was already tidy."
   ]
  },
  {
   "cell_type": "markdown",
   "metadata": {},
   "source": [
    "## 2.8 Cross-validation (10 folds) and  Choosing K"
   ]
  },
  {
   "cell_type": "markdown",
   "metadata": {},
   "source": [
    "### 2.8a Follower_Count and Post_Count"
   ]
  },
  {
   "cell_type": "code",
   "execution_count": 12,
   "metadata": {},
   "outputs": [],
   "source": [
    "# Split data into training and test sets\n",
    "X_train_a <- training_set %>% \n",
    "    select(Follower_Count, Post_Count) %>% \n",
    "    data.frame()\n",
    "\n",
    "Y_train <- training_set %>% \n",
    "    select(is_verified) %>% \n",
    "    unlist()\n",
    "\n",
    "X_test_a <- test_set %>% \n",
    "    select(Follower_Count, Post_Count) %>% \n",
    "    data.frame()\n",
    "\n",
    "Y_test <- test_set %>% \n",
    "    select(is_verified) %>% \n",
    "    unlist()"
   ]
  },
  {
   "cell_type": "code",
   "execution_count": 13,
   "metadata": {},
   "outputs": [
    {
     "data": {
      "image/png": "[encoded data removed]",
      "text/plain": [
       "plot without title"
      ]
     },
     "metadata": {
      "image/png": {
       "height": 300,
       "width": 300
      },
      "text/plain": {
       "height": 300,
       "width": 300
      }
     },
     "output_type": "display_data"
    }
   ],
   "source": [
    "# Choosing K (1) : which k is best roughly from 1 to 200?\n",
    "options(repr.plot.width = 5, repr.plot.height = 5) \n",
    "\n",
    "train_control <- trainControl(method=\"cv\", number = 10)\n",
    "\n",
    "k = data.frame(k = seq(from = 1, to = 200, by = 10))\n",
    "knn_model_cv_10fold <- train(x = X_train_a, y = Y_train, method = \"knn\", tuneGrid = k, trControl = train_control)\n",
    "\n",
    "accuracy <-knn_model_cv_10fold$results\n",
    "accuracy_vs_k_lots <- ggplot(accuracy, aes(x = k, y = Accuracy)) +\n",
    "  geom_point() +\n",
    "  geom_line()+\n",
    "  ggtitle(\"Figure 2. Accuracy Rate Across Ks from 1 to 200\")\n",
    "accuracy_vs_k_lots"
   ]
  },
  {
   "cell_type": "code",
   "execution_count": 14,
   "metadata": {
    "scrolled": false
   },
   "outputs": [
    {
     "data": {
      "image/png": "[encoded data removed]",
      "text/plain": [
       "plot without title"
      ]
     },
     "metadata": {
      "image/png": {
       "height": 300,
       "width": 300
      },
      "text/plain": {
       "height": 300,
       "width": 300
      }
     },
     "output_type": "display_data"
    }
   ],
   "source": [
    "#choosing K(2): which k is best from 1 to 10?\n",
    "train_control <- trainControl(method=\"cv\", number = 10)\n",
    "k = data.frame(k = c(1,2,3,4,5,6,7,8,9,10))\n",
    "\n",
    "knn_model_cv_10fold <- train(x = X_train_a, y = Y_train, method = \"knn\", tuneGrid = k, trControl = train_control)\n",
    "accuracy_2 <-knn_model_cv_10fold$results\n",
    "\n",
    "accuracy_vs_k <- ggplot(accuracy_2, aes(x = k, y = Accuracy)) +\n",
    "  geom_point() +\n",
    "  geom_line()+\n",
    "  ggtitle(\"Figure 3. Accuracy Rate Across Ks from 1 to 19\")\n",
    "\n",
    "accuracy_vs_k"
   ]
  },
  {
   "cell_type": "markdown",
   "metadata": {},
   "source": [
    "### 2.8b Friend_Count and Liked_Count"
   ]
  },
  {
   "cell_type": "code",
   "execution_count": 15,
   "metadata": {},
   "outputs": [],
   "source": [
    "# Split data into training and test sets\n",
    "X_train_b <- training_set %>% \n",
    "    select(Friend_Count, Liked_Count) %>% \n",
    "    data.frame()\n",
    "\n",
    "X_test_b <- test_set %>% \n",
    "    select(Friend_Count, Liked_Count) %>% \n",
    "    data.frame()"
   ]
  },
  {
   "cell_type": "code",
   "execution_count": 16,
   "metadata": {},
   "outputs": [
    {
     "data": {
      "text/plain": [
       "$title\n",
       "[1] \"Figure 4. Accuracy Rate Across Ks from 1 to 200\"\n",
       "\n",
       "attr(,\"class\")\n",
       "[1] \"labels\""
      ]
     },
     "metadata": {},
     "output_type": "display_data"
    },
    {
     "data": {
      "image/png": "[encoded data removed]",
      "text/plain": [
       "plot without title"
      ]
     },
     "metadata": {
      "image/png": {
       "height": 300,
       "width": 300
      },
      "text/plain": {
       "height": 300,
       "width": 300
      }
     },
     "output_type": "display_data"
    }
   ],
   "source": [
    "# Choosing K (1) : which k is best roughly from 1 to 200?\n",
    "train_control <- trainControl(method=\"cv\", number = 10)\n",
    "k = data.frame(k = seq(from = 1, to = 200, by = 10))\n",
    "\n",
    "knn_model_cv_10fold <- train(x = X_train_b, y = Y_train, method = \"knn\", tuneGrid = k, trControl = train_control)\n",
    "\n",
    "accuracy <-knn_model_cv_10fold$results\n",
    "accuracy_vs_k_lots <- ggplot(accuracy, aes(x = k, y = Accuracy)) +\n",
    "  geom_point() +\n",
    "  geom_line()\n",
    "  ggtitle(\"Figure 4. Accuracy Rate Across Ks from 1 to 200\")\n",
    "accuracy_vs_k_lots"
   ]
  },
  {
   "cell_type": "code",
   "execution_count": 17,
   "metadata": {
    "scrolled": false
   },
   "outputs": [
    {
     "data": {
      "image/png": "[encoded data removed]",
      "text/plain": [
       "plot without title"
      ]
     },
     "metadata": {
      "image/png": {
       "height": 300,
       "width": 300
      },
      "text/plain": {
       "height": 300,
       "width": 300
      }
     },
     "output_type": "display_data"
    }
   ],
   "source": [
    "#choosing K(2): which k is best from 1 to 10?\n",
    "train_control <- trainControl(method=\"cv\", number = 10)\n",
    "k = data.frame(k = c(1,2,3,4,5,6,7,8,9,10))\n",
    "\n",
    "knn_model_cv_10fold <- train(x = X_train_b, y = Y_train, method = \"knn\", tuneGrid = k, trControl = train_control)\n",
    "accuracy_2 <-knn_model_cv_10fold$results\n",
    "\n",
    "accuracy_vs_k <- ggplot(accuracy_2, aes(x = k, y = Accuracy)) +\n",
    "  geom_point() +\n",
    "  geom_line()+\n",
    "  ggtitle(\"Figure 5. Accuracy Rate Across Ks from 1 to 19\")\n",
    "\n",
    "accuracy_vs_k"
   ]
  },
  {
   "cell_type": "markdown",
   "metadata": {},
   "source": [
    "### 2.8c Follower_Count, Post_Count, and Liked_Count "
   ]
  },
  {
   "cell_type": "code",
   "execution_count": 18,
   "metadata": {},
   "outputs": [],
   "source": [
    "# Split data into training and test sets\n",
    "X_train_c <- training_set %>% \n",
    "    select(Follower_Count,Post_Count, Liked_Count) %>% \n",
    "    data.frame()\n",
    "\n",
    "X_test_c <- test_set %>% \n",
    "    select(Follower_Count,Post_Count, Liked_Count)%>% \n",
    "    data.frame()"
   ]
  },
  {
   "cell_type": "code",
   "execution_count": 19,
   "metadata": {},
   "outputs": [
    {
     "data": {
      "image/png": "[encoded data removed]",
      "text/plain": [
       "plot without title"
      ]
     },
     "metadata": {
      "image/png": {
       "height": 300,
       "width": 300
      },
      "text/plain": {
       "height": 300,
       "width": 300
      }
     },
     "output_type": "display_data"
    }
   ],
   "source": [
    "# Choosing K (1) : which k is best roughly from 1 to 200?\n",
    "train_control <- trainControl(method=\"cv\", number = 10)\n",
    "k = data.frame(k = seq(from = 1, to = 200, by = 10))\n",
    "\n",
    "knn_model_cv_10fold <- train(x = X_train_c, y = Y_train, method = \"knn\", tuneGrid = k, trControl = train_control)\n",
    "\n",
    "accuracy <-knn_model_cv_10fold$results\n",
    "accuracy_vs_k_lots <- ggplot(accuracy, aes(x = k, y = Accuracy)) +\n",
    "  geom_point() +\n",
    "  geom_line()+\n",
    "  ggtitle(\"Figure 6. Accuracy Rate Across Ks from 1 to 200\")\n",
    "accuracy_vs_k_lots"
   ]
  },
  {
   "cell_type": "code",
   "execution_count": 20,
   "metadata": {
    "scrolled": false
   },
   "outputs": [
    {
     "data": {
      "image/png": "[encoded data removed]",
      "text/plain": [
       "plot without title"
      ]
     },
     "metadata": {
      "image/png": {
       "height": 300,
       "width": 300
      },
      "text/plain": {
       "height": 300,
       "width": 300
      }
     },
     "output_type": "display_data"
    }
   ],
   "source": [
    "#choosing K(2): which k is best from 1 to 10?\n",
    "train_control <- trainControl(method=\"cv\", number = 10)\n",
    "k = data.frame(k = c(1,2,3,4,5,6,7,8,9,10))\n",
    "\n",
    "knn_model_cv_10fold <- train(x = X_train_c, y = Y_train, method = \"knn\", tuneGrid = k, trControl = train_control)\n",
    "accuracy_2 <-knn_model_cv_10fold$results\n",
    "\n",
    "accuracy_vs_k <- ggplot(accuracy_2, aes(x = k, y = Accuracy)) +\n",
    "  geom_point() +\n",
    "  geom_line()+\n",
    "  ggtitle(\"Figure 7. Accuracy Rate Across Ks from 1 to 19\")\n",
    "\n",
    "accuracy_vs_k"
   ]
  },
  {
   "cell_type": "markdown",
   "metadata": {},
   "source": [
    "## 2.9 Training Error \n"
   ]
  },
  {
   "cell_type": "code",
   "execution_count": 21,
   "metadata": {},
   "outputs": [
    {
     "data": {
      "text/html": [
       "<strong>Accuracy:</strong> 1"
      ],
      "text/latex": [
       "\\textbf{Accuracy:} 1"
      ],
      "text/markdown": [
       "**Accuracy:** 1"
      ],
      "text/plain": [
       "Accuracy \n",
       "       1 "
      ]
     },
     "metadata": {},
     "output_type": "display_data"
    }
   ],
   "source": [
    "#4.2a Follower_Count and Post_Count\n",
    "error <- train(x = X_train_a, y = Y_train, method = \"knn\", tuneGrid = data.frame(k=1))\n",
    "training_pred <- predict(object=error, X_train_a)\n",
    "training_results_a <- confusionMatrix(training_pred, Y_train)\n",
    "training_results_a$overall[1]"
   ]
  },
  {
   "cell_type": "code",
   "execution_count": 22,
   "metadata": {},
   "outputs": [
    {
     "data": {
      "text/html": [
       "<strong>Accuracy:</strong> 0.994513031550069"
      ],
      "text/latex": [
       "\\textbf{Accuracy:} 0.994513031550069"
      ],
      "text/markdown": [
       "**Accuracy:** 0.994513031550069"
      ],
      "text/plain": [
       "Accuracy \n",
       "0.994513 "
      ]
     },
     "metadata": {},
     "output_type": "display_data"
    }
   ],
   "source": [
    "#4.2b Friend_Count and Liked_Count\n",
    "error <- train(x = X_train_b, y = Y_train, method = \"knn\", tuneGrid = data.frame(k=1))\n",
    "training_pred <- predict(object=error, X_train_b)\n",
    "training_results_b <- confusionMatrix(training_pred, Y_train)\n",
    "training_results_b$overall[1]"
   ]
  },
  {
   "cell_type": "code",
   "execution_count": 23,
   "metadata": {},
   "outputs": [
    {
     "data": {
      "text/html": [
       "<strong>Accuracy:</strong> 1"
      ],
      "text/latex": [
       "\\textbf{Accuracy:} 1"
      ],
      "text/markdown": [
       "**Accuracy:** 1"
      ],
      "text/plain": [
       "Accuracy \n",
       "       1 "
      ]
     },
     "metadata": {},
     "output_type": "display_data"
    }
   ],
   "source": [
    "#4.2c Follower_Post, Post_Count, and Liked_Count\n",
    "error <- train(x = X_train_c, y = Y_train, method = \"knn\", tuneGrid = data.frame(k=1))\n",
    "training_pred <- predict(object=error, X_train_c)\n",
    "training_results_c <- confusionMatrix(training_pred, Y_train)\n",
    "training_results_c$overall[1]"
   ]
  },
  {
   "cell_type": "code",
   "execution_count": 24,
   "metadata": {},
   "outputs": [
    {
     "data": {
      "image/png": "[encoded data removed]",
      "text/plain": [
       "plot without title"
      ]
     },
     "metadata": {
      "image/png": {
       "height": 480,
       "width": 480
      },
      "text/plain": {
       "height": 480,
       "width": 480
      }
     },
     "output_type": "display_data"
    }
   ],
   "source": [
    "options(repr.plot.width = 8, repr.plot.height = 8) \n",
    "a <- data.frame(classifier=\"4.2a\",accuracy=training_results_a$overall[1]) \n",
    "rownames(a) <- c()\n",
    "b <- data.frame(classifier=\"4.2b\",accuracy=training_results_b$overall[1]) \n",
    "rownames(b) <- c()\n",
    "c <- data.frame(classifier=\"4.2c\",accuracy=training_results_c$overall[1]) \n",
    "rownames(c) <- c()\n",
    "\n",
    "rbind(a,b,c) %>% ggplot(aes(x=classifier,y=accuracy*100))+\n",
    "    geom_bar(stat = \"identity\")+\n",
    "    labs(x=\"Classifier\",y=\"Accuracy (%)\",cex.lab=10)+\n",
    "    theme(text = element_text(size = 18))+\n",
    "    ggtitle(\"Figure 8. Comparison of Accuracies (Training Data)\")\n"
   ]
  },
  {
   "cell_type": "markdown",
   "metadata": {},
   "source": [
    "## 2.10 Result (Test Data)"
   ]
  },
  {
   "cell_type": "markdown",
   "metadata": {},
   "source": [
    "Using this information, the test data was used to predict whether an account was verified or not using all three variable groupings. The accuracy of each variable grouping was visualized as a bar graph of its percentage success. All three categories had a percentage success of 92-99.6%; very high for our selected k-value. With this, we were able to conclude that using a classification model to guess whether or not an account is verified gives us a scarily accurate result. Meaning, that with the specific variables we used, you could estimate an accounts verification status beyond a reasonable doubt. \n"
   ]
  },
  {
   "cell_type": "code",
   "execution_count": 25,
   "metadata": {},
   "outputs": [
    {
     "data": {
      "text/html": [
       "<strong>Accuracy:</strong> 0.995884773662551"
      ],
      "text/latex": [
       "\\textbf{Accuracy:} 0.995884773662551"
      ],
      "text/markdown": [
       "**Accuracy:** 0.995884773662551"
      ],
      "text/plain": [
       " Accuracy \n",
       "0.9958848 "
      ]
     },
     "metadata": {},
     "output_type": "display_data"
    }
   ],
   "source": [
    "#4.2a Follower_Count and Post_Count\n",
    "k = data.frame(k = 1)\n",
    "model_knn_a <- train(x = X_train_a, y = Y_train, method = \"knn\", tuneGrid = k)\n",
    "\n",
    "Y_test_predicted_a <- predict(object = model_knn_a, X_test_a)\n",
    "\n",
    "model_quality_a <- confusionMatrix(data = Y_test_predicted_a, reference = Y_test)\n",
    "model_quality_a$overall[1]"
   ]
  },
  {
   "cell_type": "code",
   "execution_count": 26,
   "metadata": {},
   "outputs": [
    {
     "data": {
      "text/html": [
       "<strong>Accuracy:</strong> 0.98559670781893"
      ],
      "text/latex": [
       "\\textbf{Accuracy:} 0.98559670781893"
      ],
      "text/markdown": [
       "**Accuracy:** 0.98559670781893"
      ],
      "text/plain": [
       " Accuracy \n",
       "0.9855967 "
      ]
     },
     "metadata": {},
     "output_type": "display_data"
    }
   ],
   "source": [
    "#4.2b Friend_Count and Liked_Count\n",
    "k = data.frame(k = 1)\n",
    "model_knn_b <- train(x = X_train_b, y = Y_train, method = \"knn\", tuneGrid = k)\n",
    "\n",
    "Y_test_predicted_b <- predict(object = model_knn_b, X_test_b)\n",
    "\n",
    "model_quality_b <- confusionMatrix(data = Y_test_predicted_b, reference = Y_test)\n",
    "model_quality_b$overall[1]"
   ]
  },
  {
   "cell_type": "code",
   "execution_count": 27,
   "metadata": {},
   "outputs": [
    {
     "data": {
      "text/html": [
       "<strong>Accuracy:</strong> 0.993827160493827"
      ],
      "text/latex": [
       "\\textbf{Accuracy:} 0.993827160493827"
      ],
      "text/markdown": [
       "**Accuracy:** 0.993827160493827"
      ],
      "text/plain": [
       " Accuracy \n",
       "0.9938272 "
      ]
     },
     "metadata": {},
     "output_type": "display_data"
    }
   ],
   "source": [
    "#4.2c Follower_Post, Post_Count, and Liked_Count\n",
    "k = data.frame(k = 1)\n",
    "model_knn_c <- train(x = X_train_c, y = Y_train, method = \"knn\", tuneGrid = k)\n",
    "\n",
    "Y_test_predicted_c <- predict(object = model_knn_c, X_test_c)\n",
    "\n",
    "model_quality_c <- confusionMatrix(data = Y_test_predicted_c, reference = Y_test)\n",
    "model_quality_c$overall[1]"
   ]
  },
  {
   "cell_type": "code",
   "execution_count": 28,
   "metadata": {},
   "outputs": [
    {
     "data": {
      "image/png": "[encoded data removed]",
      "text/plain": [
       "plot without title"
      ]
     },
     "metadata": {
      "image/png": {
       "height": 480,
       "width": 480
      },
      "text/plain": {
       "height": 480,
       "width": 480
      }
     },
     "output_type": "display_data"
    }
   ],
   "source": [
    "options(repr.plot.width = 8, repr.plot.height = 8) \n",
    "a <- data.frame(classifier=\"4.2a\",accuracy=model_quality_a$overall[1]) \n",
    "rownames(a) <- c()\n",
    "b <- data.frame(classifier=\"4.2b\",accuracy=model_quality_b$overall[1]) \n",
    "rownames(b) <- c()\n",
    "c <- data.frame(classifier=\"4.2c\",accuracy=model_quality_c$overall[1]) \n",
    "rownames(c) <- c()\n",
    "\n",
    "\n",
    "rbind(a,b,c) %>% ggplot(aes(x=classifier,y=accuracy*100))+\n",
    "    geom_bar(stat = \"identity\")+\n",
    "    labs(x=\"Classifier\",y=\"Accuracy (%)\",cex.lab=10)+\n",
    "    theme(text = element_text(size = 18))+\n",
    "    ggtitle(\"Figure 9. Comparison of Accuracies (Test Data)\")\n",
    "    "
   ]
  },
  {
   "cell_type": "markdown",
   "metadata": {},
   "source": [
    "#  3. Discussion\n",
    "\n",
    "According to the four numerical variables, followers, friends, posts, and likes, this project performed three different K-nn classification to process the data of 1000 Twitter accounts collected at random and calculated the accuracy of our predictions. In the Training error part, we firstly used training data to check the predicting models we got by exploring the correlation between numerical variables in the groups and whether the twitter accounts were verified. In this situation, we found that, for the training data, both predicting models of 'follower and post count' group and 'follower, post, and like count' group had the success of 100 percent while the model made by 'friends count and liked count' had an error rate of approximately 0.5 percent. After summarizing the training error rate, the next step was using the three models to predict the observations in the test data, which were never used before. The result was that predicting by the first model and the third model displayed the accuracy of 0.99588 and 0.99383, respectively, but the accuracy for the second model was slightly lower, which was 0.98560. The plot of the three groups at the last part of the code also showed their comparison of accuracy.\n",
    "\n",
    "Because the accuracy of all the categories was extraordinarily high, and the three bars of the plot above were nearly filled, we concluded that all the groups of variables could predict whether or not a twitter account was verified. By the plot, it seems that we tend to choose the first and the third variable groups to make predictions on account of their longer bars. However, when comparing the accuracy of the first and the third group, we noticed that there was one more variable, like count, in the third group, while the accuracy was lower, conversely. Besides, the second group with the 'like count' variable also had a slightly unsatisfactory predicting result, which meant this variable did not contribute a lot as other variables to our prediction. Hence we tended to conclude that, in order to ensure the accuracy, we should avoid considering this numerical variable, like count,  in the future predictions. On the other hand, because of the highest predicting accuracy of the first group, we summarized that the combination of follower and post count was the most appropriate and influential to predict the verification of twitter accounts.\n",
    "\n",
    "Based on the last paragraph, the results of this project accorded with our expectation that discovering a class association that states twitter accounts with higher followers, friends, posts, and likes will probably be verified and finding the most predominant factors. It contributes to ascertaining what kind of social benchmarks must be reached for the general Twitter account to become verified and provides users with the direction they are likely to strive to go, clearly making great efforts on high-quality posts in order to attract more followers.\n",
    "\n",
    "However, some questions are arising from this analysis. Firstly, Twitter Verified is a status given by Twitter directly, which means there are a large number of zombie fans in the counting data. Therefore, does 'follower count matter' as much as legitimate followers? In essence, does quantity beat quality when Twitter goes through the account verification process? Furthermore, are there any instances of outliers, such as some public figures that meet all of our benchmarks but are not Twitter Verified? What are the causes of these outlier status? These questions are what would not be solved and will be explored in the future study.\n",
    "\n"
   ]
  },
  {
   "cell_type": "markdown",
   "metadata": {},
   "source": [
    "#  4. References"
   ]
  },
  {
   "cell_type": "markdown",
   "metadata": {},
   "source": [
    "- Can k be 1? (2020). Piazza. Retrieved from https://piazza.com/class/k4w3w9x7mbu63q?cid=336\n",
    "- Pushsift.io. CSV formatted Metadata for over 115 million Twitter user accounts (including all verified accounts and nearly complete for years 2006-2009). (2019). Retrieved from https://www.reddit.com/r/datasets/comments/8v123v/csv_formatted_metadata_for_over_115_million/"
   ]
  }
 ],
 "metadata": {
  "kernelspec": {
   "display_name": "R",
   "language": "R",
   "name": "ir"
  },
  "language_info": {
   "codemirror_mode": "r",
   "file_extension": ".r",
   "mimetype": "text/x-r-source",
   "name": "R",
   "pygments_lexer": "r",
   "version": "3.6.1"
  }
 },
 "nbformat": 4,
 "nbformat_minor": 4
}
