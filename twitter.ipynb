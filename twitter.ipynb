{
 "cells": [
  {
   "cell_type": "markdown",
   "metadata": {},
   "source": [
    "- **<font color=red>Red chapters</font> are chapters where I haven't done anything**\n",
    "- **<font color=green>Green sentences</font> are questions or notes**"
   ]
  },
  {
   "cell_type": "markdown",
   "metadata": {},
   "source": [
    "# <font color=red> 1. TitleText</font>"
   ]
  },
  {
   "cell_type": "markdown",
   "metadata": {},
   "source": [
    "#  <font color=red>2. Introduction</font>\n",
    "\n",
    "- Provide some relevant background information on the topic so that someone unfamiliar with it will be prepared to understand the rest of your proposal\n",
    "- Clearly state the question you will try to answer with your project\n",
    "- Identify and describe the dataset that will be used to answer the question\n",
    "\n"
   ]
  },
  {
   "cell_type": "markdown",
   "metadata": {},
   "source": [
    "# 3. Preliminary Exploratory Data Analysis\n",
    "\n",
    "- Demonstrate that the dataset can be read from the web into R \n",
    "- Split your data into a training and test set\n",
    "- **Using only the training set**, summarize the data in at least one table (this is exploratory data analysis). An example of a useful table could be one that reports the number of observations in each class, the means of the predictor variables you plan to use in your analysis and how many rows have missing data. \n",
    "- **Using only the training set**, visualize the data with at least one plot relevant to the analysis you plan to do (this is exploratory data analysis). An example of a useful visualization could be one that compares the distributions of each of the predictor variables you plan to use in your analysis (ggpairs from the GGally R package can be helpful here).\n"
   ]
  },
  {
   "cell_type": "markdown",
   "metadata": {},
   "source": [
    "## 3.1 Installing Packages"
   ]
  },
  {
   "cell_type": "code",
   "execution_count": 1,
   "metadata": {},
   "outputs": [
    {
     "name": "stderr",
     "output_type": "stream",
     "text": [
      "Warning message:\n",
      "\"package 'tidyverse' was built under R version 3.6.2\"\n",
      "-- \u001b[1mAttaching packages\u001b[22m --------------------------------------- tidyverse 1.3.0 --\n",
      "\n",
      "\u001b[32mv\u001b[39m \u001b[34mggplot2\u001b[39m 3.2.1     \u001b[32mv\u001b[39m \u001b[34mpurrr  \u001b[39m 0.3.3\n",
      "\u001b[32mv\u001b[39m \u001b[34mtibble \u001b[39m 2.1.3     \u001b[32mv\u001b[39m \u001b[34mdplyr  \u001b[39m 0.8.3\n",
      "\u001b[32mv\u001b[39m \u001b[34mtidyr  \u001b[39m 1.0.0     \u001b[32mv\u001b[39m \u001b[34mstringr\u001b[39m 1.4.0\n",
      "\u001b[32mv\u001b[39m \u001b[34mreadr  \u001b[39m 1.3.1     \u001b[32mv\u001b[39m \u001b[34mforcats\u001b[39m 0.4.0\n",
      "\n",
      "Warning message:\n",
      "\"package 'ggplot2' was built under R version 3.6.2\"\n",
      "Warning message:\n",
      "\"package 'tibble' was built under R version 3.6.2\"\n",
      "Warning message:\n",
      "\"package 'tidyr' was built under R version 3.6.2\"\n",
      "Warning message:\n",
      "\"package 'readr' was built under R version 3.6.2\"\n",
      "Warning message:\n",
      "\"package 'purrr' was built under R version 3.6.2\"\n",
      "Warning message:\n",
      "\"package 'dplyr' was built under R version 3.6.2\"\n",
      "Warning message:\n",
      "\"package 'stringr' was built under R version 3.6.2\"\n",
      "Warning message:\n",
      "\"package 'forcats' was built under R version 3.6.2\"\n",
      "-- \u001b[1mConflicts\u001b[22m ------------------------------------------ tidyverse_conflicts() --\n",
      "\u001b[31mx\u001b[39m \u001b[34mdplyr\u001b[39m::\u001b[32mfilter()\u001b[39m masks \u001b[34mstats\u001b[39m::filter()\n",
      "\u001b[31mx\u001b[39m \u001b[34mdplyr\u001b[39m::\u001b[32mlag()\u001b[39m    masks \u001b[34mstats\u001b[39m::lag()\n",
      "\n",
      "Warning message:\n",
      "\"package 'caret' was built under R version 3.6.2\"\n",
      "Loading required package: lattice\n",
      "\n",
      "\n",
      "Attaching package: 'caret'\n",
      "\n",
      "\n",
      "The following object is masked from 'package:purrr':\n",
      "\n",
      "    lift\n",
      "\n",
      "\n"
     ]
    }
   ],
   "source": [
    "library(\"tidyverse\")\n",
    "library(\"caret\")\n",
    "set.seed(1234)"
   ]
  },
  {
   "cell_type": "code",
   "execution_count": 2,
   "metadata": {
    "scrolled": true
   },
   "outputs": [
    {
     "name": "stderr",
     "output_type": "stream",
     "text": [
      "Installing package into 'C:/Users/kenta/Documents/R/win-library/3.6'\n",
      "(as 'lib' is unspecified)\n",
      "\n"
     ]
    },
    {
     "name": "stdout",
     "output_type": "stream",
     "text": [
      "package 'e1071' successfully unpacked and MD5 sums checked\n",
      "\n",
      "The downloaded binary packages are in\n",
      "\tC:\\Users\\kenta\\AppData\\Local\\Temp\\RtmpQjQBsO\\downloaded_packages\n"
     ]
    }
   ],
   "source": [
    "install.packages(\"e1071\")"
   ]
  },
  {
   "cell_type": "markdown",
   "metadata": {},
   "source": [
    "## 3.2 Reading & Checking Data "
   ]
  },
  {
   "cell_type": "code",
   "execution_count": 121,
   "metadata": {},
   "outputs": [
    {
     "name": "stderr",
     "output_type": "stream",
     "text": [
      "Parsed with column specification:\n",
      "cols(\n",
      "  Twitter_ID = \u001b[32mcol_double()\u001b[39m,\n",
      "  Twitter_User = \u001b[31mcol_character()\u001b[39m,\n",
      "  Creation_Date = \u001b[32mcol_double()\u001b[39m,\n",
      "  Follower_Count = \u001b[32mcol_double()\u001b[39m,\n",
      "  Friend_Count = \u001b[32mcol_double()\u001b[39m,\n",
      "  Post_Count = \u001b[32mcol_double()\u001b[39m,\n",
      "  Liked_Count = \u001b[32mcol_double()\u001b[39m,\n",
      "  List_Count = \u001b[32mcol_double()\u001b[39m,\n",
      "  Language = \u001b[31mcol_character()\u001b[39m,\n",
      "  is_protected = \u001b[32mcol_double()\u001b[39m,\n",
      "  is_verified = \u001b[32mcol_double()\u001b[39m\n",
      ")\n",
      "\n"
     ]
    },
    {
     "data": {
      "text/html": [
       "<table>\n",
       "<caption>A tibble: 6 × 11</caption>\n",
       "<thead>\n",
       "\t<tr><th scope=col>Twitter_ID</th><th scope=col>Twitter_User</th><th scope=col>Creation_Date</th><th scope=col>Follower_Count</th><th scope=col>Friend_Count</th><th scope=col>Post_Count</th><th scope=col>Liked_Count</th><th scope=col>List_Count</th><th scope=col>Language</th><th scope=col>is_protected</th><th scope=col>is_verified</th></tr>\n",
       "\t<tr><th scope=col>&lt;dbl&gt;</th><th scope=col>&lt;chr&gt;</th><th scope=col>&lt;dbl&gt;</th><th scope=col>&lt;dbl&gt;</th><th scope=col>&lt;dbl&gt;</th><th scope=col>&lt;dbl&gt;</th><th scope=col>&lt;dbl&gt;</th><th scope=col>&lt;dbl&gt;</th><th scope=col>&lt;chr&gt;</th><th scope=col>&lt;fct&gt;</th><th scope=col>&lt;fct&gt;</th></tr>\n",
       "</thead>\n",
       "<tbody>\n",
       "\t<tr><td>9.99e+17</td><td>NintendoLaboFR</td><td>1526983527</td><td> 3014</td><td> 0</td><td> 10</td><td>  0</td><td> 5</td><td>en</td><td>0</td><td>1</td></tr>\n",
       "\t<tr><td>9.99e+17</td><td>Zero21Dec     </td><td>1526982877</td><td> 5829</td><td> 6</td><td>158</td><td>  1</td><td> 3</td><td>en</td><td>0</td><td>1</td></tr>\n",
       "\t<tr><td>9.99e+17</td><td>GoogleCloud_IN</td><td>1526951259</td><td>  368</td><td>90</td><td> 94</td><td>276</td><td> 1</td><td>en</td><td>0</td><td>1</td></tr>\n",
       "\t<tr><td>9.99e+17</td><td>tver_fwc      </td><td>1526909603</td><td> 4898</td><td>66</td><td> 89</td><td>  2</td><td>36</td><td>ja</td><td>0</td><td>1</td></tr>\n",
       "\t<tr><td>9.97e+17</td><td>ImKRUNKKK     </td><td>1526633047</td><td> 1323</td><td> 7</td><td> 25</td><td>  1</td><td> 1</td><td>en</td><td>0</td><td>1</td></tr>\n",
       "\t<tr><td>9.97e+17</td><td>PUBGEsports   </td><td>1526584590</td><td>17939</td><td>36</td><td> 48</td><td> 12</td><td>17</td><td>en</td><td>0</td><td>1</td></tr>\n",
       "</tbody>\n",
       "</table>\n"
      ],
      "text/latex": [
       "A tibble: 6 × 11\n",
       "\\begin{tabular}{lllllllllll}\n",
       " Twitter\\_ID & Twitter\\_User & Creation\\_Date & Follower\\_Count & Friend\\_Count & Post\\_Count & Liked\\_Count & List\\_Count & Language & is\\_protected & is\\_verified\\\\\n",
       " <dbl> & <chr> & <dbl> & <dbl> & <dbl> & <dbl> & <dbl> & <dbl> & <chr> & <fct> & <fct>\\\\\n",
       "\\hline\n",
       "\t 9.99e+17 & NintendoLaboFR & 1526983527 &  3014 &  0 &  10 &   0 &  5 & en & 0 & 1\\\\\n",
       "\t 9.99e+17 & Zero21Dec      & 1526982877 &  5829 &  6 & 158 &   1 &  3 & en & 0 & 1\\\\\n",
       "\t 9.99e+17 & GoogleCloud\\_IN & 1526951259 &   368 & 90 &  94 & 276 &  1 & en & 0 & 1\\\\\n",
       "\t 9.99e+17 & tver\\_fwc       & 1526909603 &  4898 & 66 &  89 &   2 & 36 & ja & 0 & 1\\\\\n",
       "\t 9.97e+17 & ImKRUNKKK      & 1526633047 &  1323 &  7 &  25 &   1 &  1 & en & 0 & 1\\\\\n",
       "\t 9.97e+17 & PUBGEsports    & 1526584590 & 17939 & 36 &  48 &  12 & 17 & en & 0 & 1\\\\\n",
       "\\end{tabular}\n"
      ],
      "text/markdown": [
       "\n",
       "A tibble: 6 × 11\n",
       "\n",
       "| Twitter_ID &lt;dbl&gt; | Twitter_User &lt;chr&gt; | Creation_Date &lt;dbl&gt; | Follower_Count &lt;dbl&gt; | Friend_Count &lt;dbl&gt; | Post_Count &lt;dbl&gt; | Liked_Count &lt;dbl&gt; | List_Count &lt;dbl&gt; | Language &lt;chr&gt; | is_protected &lt;fct&gt; | is_verified &lt;fct&gt; |\n",
       "|---|---|---|---|---|---|---|---|---|---|---|\n",
       "| 9.99e+17 | NintendoLaboFR | 1526983527 |  3014 |  0 |  10 |   0 |  5 | en | 0 | 1 |\n",
       "| 9.99e+17 | Zero21Dec      | 1526982877 |  5829 |  6 | 158 |   1 |  3 | en | 0 | 1 |\n",
       "| 9.99e+17 | GoogleCloud_IN | 1526951259 |   368 | 90 |  94 | 276 |  1 | en | 0 | 1 |\n",
       "| 9.99e+17 | tver_fwc       | 1526909603 |  4898 | 66 |  89 |   2 | 36 | ja | 0 | 1 |\n",
       "| 9.97e+17 | ImKRUNKKK      | 1526633047 |  1323 |  7 |  25 |   1 |  1 | en | 0 | 1 |\n",
       "| 9.97e+17 | PUBGEsports    | 1526584590 | 17939 | 36 |  48 |  12 | 17 | en | 0 | 1 |\n",
       "\n"
      ],
      "text/plain": [
       "  Twitter_ID Twitter_User   Creation_Date Follower_Count Friend_Count\n",
       "1 9.99e+17   NintendoLaboFR 1526983527     3014           0          \n",
       "2 9.99e+17   Zero21Dec      1526982877     5829           6          \n",
       "3 9.99e+17   GoogleCloud_IN 1526951259      368          90          \n",
       "4 9.99e+17   tver_fwc       1526909603     4898          66          \n",
       "5 9.97e+17   ImKRUNKKK      1526633047     1323           7          \n",
       "6 9.97e+17   PUBGEsports    1526584590    17939          36          \n",
       "  Post_Count Liked_Count List_Count Language is_protected is_verified\n",
       "1  10          0          5         en       0            1          \n",
       "2 158          1          3         en       0            1          \n",
       "3  94        276          1         en       0            1          \n",
       "4  89          2         36         ja       0            1          \n",
       "5  25          1          1         en       0            1          \n",
       "6  48         12         17         en       0            1          "
      ]
     },
     "metadata": {},
     "output_type": "display_data"
    }
   ],
   "source": [
    "data <-read_csv(\"https://raw.githubusercontent.com/knt-tky-van/DSCI_100/master/twitterdata.csv\")\n",
    "\n",
    "data$is_verified <- as.factor(data$is_verified)\n",
    "data$is_protected <- as.factor(data$is_protected)\n",
    "\n",
    "head(data)"
   ]
  },
  {
   "cell_type": "code",
   "execution_count": 4,
   "metadata": {},
   "outputs": [
    {
     "data": {
      "text/html": [
       "<style>\n",
       ".list-inline {list-style: none; margin:0; padding: 0}\n",
       ".list-inline>li {display: inline-block}\n",
       ".list-inline>li:not(:last-child)::after {content: \"\\00b7\"; padding: 0 .5ex}\n",
       "</style>\n",
       "<ol class=list-inline><li>'0'</li><li>'1'</li></ol>\n"
      ],
      "text/latex": [
       "\\begin{enumerate*}\n",
       "\\item '0'\n",
       "\\item '1'\n",
       "\\end{enumerate*}\n"
      ],
      "text/markdown": [
       "1. '0'\n",
       "2. '1'\n",
       "\n",
       "\n"
      ],
      "text/plain": [
       "[1] \"0\" \"1\""
      ]
     },
     "metadata": {},
     "output_type": "display_data"
    }
   ],
   "source": [
    "# see if \"is_verified\" colum has something other than \"0\" and \"1\"\n",
    "data %>%\n",
    "    select(is_verified)  %>% \n",
    "    unlist() %>% \n",
    "    levels()"
   ]
  },
  {
   "cell_type": "markdown",
   "metadata": {},
   "source": [
    "## 3.3 Balancing "
   ]
  },
  {
   "cell_type": "code",
   "execution_count": 5,
   "metadata": {},
   "outputs": [
    {
     "data": {
      "text/html": [
       "<table>\n",
       "<caption>A tibble: 2 × 2</caption>\n",
       "<thead>\n",
       "\t<tr><th scope=col>is_verified</th><th scope=col>n</th></tr>\n",
       "\t<tr><th scope=col>&lt;fct&gt;</th><th scope=col>&lt;int&gt;</th></tr>\n",
       "</thead>\n",
       "<tbody>\n",
       "\t<tr><td>0</td><td>972</td></tr>\n",
       "\t<tr><td>1</td><td> 28</td></tr>\n",
       "</tbody>\n",
       "</table>\n"
      ],
      "text/latex": [
       "A tibble: 2 × 2\n",
       "\\begin{tabular}{ll}\n",
       " is\\_verified & n\\\\\n",
       " <fct> & <int>\\\\\n",
       "\\hline\n",
       "\t 0 & 972\\\\\n",
       "\t 1 &  28\\\\\n",
       "\\end{tabular}\n"
      ],
      "text/markdown": [
       "\n",
       "A tibble: 2 × 2\n",
       "\n",
       "| is_verified &lt;fct&gt; | n &lt;int&gt; |\n",
       "|---|---|\n",
       "| 0 | 972 |\n",
       "| 1 |  28 |\n",
       "\n"
      ],
      "text/plain": [
       "  is_verified n  \n",
       "1 0           972\n",
       "2 1            28"
      ]
     },
     "metadata": {},
     "output_type": "display_data"
    }
   ],
   "source": [
    "#raw data\n",
    "data %>% \n",
    "    group_by(is_verified) %>%\n",
    "    summarize(n = n())"
   ]
  },
  {
   "cell_type": "code",
   "execution_count": 6,
   "metadata": {},
   "outputs": [
    {
     "data": {
      "text/html": [
       "<table>\n",
       "<caption>A tibble: 2 × 2</caption>\n",
       "<thead>\n",
       "\t<tr><th scope=col>is_verified</th><th scope=col>n</th></tr>\n",
       "\t<tr><th scope=col>&lt;fct&gt;</th><th scope=col>&lt;int&gt;</th></tr>\n",
       "</thead>\n",
       "<tbody>\n",
       "\t<tr><td>0</td><td>972</td></tr>\n",
       "\t<tr><td>1</td><td>972</td></tr>\n",
       "</tbody>\n",
       "</table>\n"
      ],
      "text/latex": [
       "A tibble: 2 × 2\n",
       "\\begin{tabular}{ll}\n",
       " is\\_verified & n\\\\\n",
       " <fct> & <int>\\\\\n",
       "\\hline\n",
       "\t 0 & 972\\\\\n",
       "\t 1 & 972\\\\\n",
       "\\end{tabular}\n"
      ],
      "text/markdown": [
       "\n",
       "A tibble: 2 × 2\n",
       "\n",
       "| is_verified &lt;fct&gt; | n &lt;int&gt; |\n",
       "|---|---|\n",
       "| 0 | 972 |\n",
       "| 1 | 972 |\n",
       "\n"
      ],
      "text/plain": [
       "  is_verified n  \n",
       "1 0           972\n",
       "2 1           972"
      ]
     },
     "metadata": {},
     "output_type": "display_data"
    }
   ],
   "source": [
    "#after upsample\n",
    "data <- upSample(x = select(data, -is_verified),\n",
    "            y = select(data,is_verified) %>% unlist(),\n",
    "            yname=\"is_verified\")\n",
    "\n",
    "data %>% \n",
    "    group_by(is_verified) %>%\n",
    "    summarize(n = n())"
   ]
  },
  {
   "cell_type": "markdown",
   "metadata": {},
   "source": [
    "## 3.4 Splitting Data into Training/Test Sets\n",
    "- <font color=green>75% for training and 25% for test for now. What ratio is best?</font>"
   ]
  },
  {
   "cell_type": "code",
   "execution_count": 7,
   "metadata": {},
   "outputs": [],
   "source": [
    "set_rows <- data %>% \n",
    "    select(is_verified) %>% \n",
    "    unlist() %>% \n",
    "    createDataPartition(p = 0.75, list = FALSE)\n",
    "    \n",
    "training_set <- data %>% slice(set_rows)\n",
    "test_set <- data %>% slice(-set_rows)\n",
    "\n",
    "scale_transformer <- preProcess(training_set, method = c(\"center\", \"scale\")) \n",
    "\n",
    "training_set <- predict(scale_transformer, training_set)\n",
    "test_set <- predict(scale_transformer, test_set)"
   ]
  },
  {
   "cell_type": "markdown",
   "metadata": {},
   "source": [
    "## 3.5 Summarize the Training Data\n",
    "- <font color=green>Maybe we need more sophisticated table(s) for summary...</font>"
   ]
  },
  {
   "cell_type": "code",
   "execution_count": 8,
   "metadata": {
    "scrolled": false
   },
   "outputs": [
    {
     "data": {
      "text/plain": [
       "   Twitter_ID      Twitter_User       Creation_Date      Follower_Count   \n",
       " Min.   :-2.8966   Length:1458        Min.   :-2.98168   Min.   :-0.3486  \n",
       " 1st Qu.: 0.1057   Class :character   1st Qu.: 0.07597   1st Qu.:-0.3470  \n",
       " Median : 0.1057   Mode  :character   Median : 0.07780   Median :-0.3217  \n",
       " Mean   : 0.0000                      Mean   : 0.00000   Mean   : 0.0000  \n",
       " 3rd Qu.: 0.3366                      3rd Qu.: 0.33887   3rd Qu.:-0.2428  \n",
       " Max.   : 3.3389                      Max.   : 2.17916   Max.   : 4.7168  \n",
       "  Friend_Count         Post_Count        Liked_Count        List_Count     \n",
       " Min.   :-0.414567   Min.   :-0.29414   Min.   :-0.3203   Min.   :-0.4130  \n",
       " 1st Qu.:-0.372090   1st Qu.:-0.28061   1st Qu.:-0.3180   1st Qu.:-0.4130  \n",
       " Median :-0.253949   Median :-0.25356   Median :-0.2895   Median :-0.3640  \n",
       " Mean   : 0.000000   Mean   : 0.00000   Mean   : 0.0000   Mean   : 0.0000  \n",
       " 3rd Qu.:-0.008374   3rd Qu.:-0.09551   3rd Qu.:-0.1056   3rd Qu.: 0.1255  \n",
       " Max.   :12.862373   Max.   :16.55723   Max.   :11.2145   Max.   : 5.9999  \n",
       "   Language         is_protected is_verified\n",
       " Length:1458        0:1456       0:729      \n",
       " Class :character   1:   2       1:729      \n",
       " Mode  :character                           \n",
       "                                            \n",
       "                                            \n",
       "                                            "
      ]
     },
     "metadata": {},
     "output_type": "display_data"
    }
   ],
   "source": [
    "#the number of obsevation in each class\n",
    "#the means of the predictor variables we plan to use\n",
    "summary(training_set)"
   ]
  },
  {
   "cell_type": "code",
   "execution_count": 9,
   "metadata": {},
   "outputs": [
    {
     "data": {
      "text/html": [
       "0"
      ],
      "text/latex": [
       "0"
      ],
      "text/markdown": [
       "0"
      ],
      "text/plain": [
       "[1] 0"
      ]
     },
     "metadata": {},
     "output_type": "display_data"
    }
   ],
   "source": [
    "#how many rows are missing data\n",
    "sum(is.na(training_set))"
   ]
  },
  {
   "cell_type": "markdown",
   "metadata": {},
   "source": [
    "## 3.6 Visualize the Training Data"
   ]
  },
  {
   "cell_type": "markdown",
   "metadata": {},
   "source": [
    "- \"Follwer\" and \"Post\" or \"Friend\" and \"Liked\" looks nice"
   ]
  },
  {
   "cell_type": "code",
   "execution_count": 10,
   "metadata": {},
   "outputs": [
    {
     "name": "stderr",
     "output_type": "stream",
     "text": [
      "Warning message:\n",
      "\"package 'GGally' was built under R version 3.6.2\"\n",
      "Registered S3 method overwritten by 'GGally':\n",
      "  method from   \n",
      "  +.gg   ggplot2\n",
      "\n",
      "\n",
      "Attaching package: 'GGally'\n",
      "\n",
      "\n",
      "The following object is masked from 'package:dplyr':\n",
      "\n",
      "    nasa\n",
      "\n",
      "\n"
     ]
    },
    {
     "data": {
      "image/png": "[encoded data removed]",
      "text/plain": [
       "plot without title"
      ]
     },
     "metadata": {
      "image/png": {
       "height": 1200,
       "width": 1200
      },
      "text/plain": {
       "height": 1200,
       "width": 1200
      }
     },
     "output_type": "display_data"
    }
   ],
   "source": [
    "library(GGally)\n",
    "options(repr.plot.width = 20, repr.plot.height = 20) \n",
    "\n",
    "plot_pairs <- training_set %>% \n",
    "  select(Follower_Count,Friend_Count,Post_Count,Liked_Count,List_Count,is_verified) %>% \n",
    "  ggpairs(legend=6,\n",
    "          columns=1:5,\n",
    "          mapping = ggplot2::aes(color = is_verified),\n",
    "          upper=\"blank\",\n",
    "          diag = NULL)+\n",
    "          labs(color=\"Verification\")+\n",
    "          theme(axis.text.x = element_text(hjust = 1, color = \"black\",size=20),\n",
    "          axis.text.y = element_text(hjust = 1, color = \"black\",size=20))+\n",
    "          theme_grey(base_size = 20)+\n",
    "          theme(legend.position = \"bottom\")  \n",
    "\n",
    "plot_pairs"
   ]
  },
  {
   "cell_type": "markdown",
   "metadata": {},
   "source": [
    "# 4. Method\n",
    "\n",
    "- Estimate how much cleaning and data wrangling will be needed to take the data from its native format to the format necessary for the analysis you plan to do\n",
    "- Explain how you will conduct either your classification analysis, and which variables/columns you will use (describe the data table to us). Note - you do not need to use all variables/columns that exist in the raw data set. In fact, that's often not a good idea. For each variable think: is this a useful variable for prediction?\n",
    "- Describe at least one way that you will visualize the classification results (this is in addition to the visualization created previously for exploratory data analysis)\n"
   ]
  },
  {
   "cell_type": "markdown",
   "metadata": {},
   "source": [
    "## 4.1 Cleaning & Wrangling \n",
    "- <font color=green>Do we need this? I think data is already tidy. No observation missing data.</font>"
   ]
  },
  {
   "cell_type": "markdown",
   "metadata": {},
   "source": [
    "## 4.2 Cross-validation (10 folds) & Deciding the Number of K\n",
    "- <font color=green>Variables for predictors: **Follower_Count and Post_Count** vs. **Friend_Count and Liked_Count** \n",
    "- Do we change variables or do we need more variables for prediction?</font>"
   ]
  },
  {
   "cell_type": "markdown",
   "metadata": {},
   "source": [
    "### 4.2a Follower_Count and Post_Count"
   ]
  },
  {
   "cell_type": "code",
   "execution_count": 11,
   "metadata": {},
   "outputs": [],
   "source": [
    "# Split data into training and test sets\n",
    "X_train_a <- training_set %>% \n",
    "    select(Follower_Count, Post_Count) %>% \n",
    "    data.frame()\n",
    "\n",
    "Y_train <- training_set %>% \n",
    "    select(is_verified) %>% \n",
    "    unlist()\n",
    "\n",
    "X_test_a <- test_set %>% \n",
    "    select(Follower_Count, Post_Count) %>% \n",
    "    data.frame()\n",
    "\n",
    "Y_test <- test_set %>% \n",
    "    select(is_verified) %>% \n",
    "    unlist()"
   ]
  },
  {
   "cell_type": "code",
   "execution_count": 12,
   "metadata": {},
   "outputs": [
    {
     "data": {
      "image/png": "[encoded data removed]",
      "text/plain": [
       "plot without title"
      ]
     },
     "metadata": {
      "image/png": {
       "height": 300,
       "width": 300
      },
      "text/plain": {
       "height": 300,
       "width": 300
      }
     },
     "output_type": "display_data"
    }
   ],
   "source": [
    "# Choosing K (1)\n",
    "options(repr.plot.width = 5, repr.plot.height = 5) \n",
    "\n",
    "train_control <- trainControl(method=\"cv\", number = 10)\n",
    "\n",
    "k = data.frame(k = seq(from = 1, to = 200, by = 10))\n",
    "knn_model_cv_10fold <- train(x = X_train_a, y = Y_train, method = \"knn\", tuneGrid = k, trControl = train_control)\n",
    "\n",
    "accuracy <-knn_model_cv_10fold$results\n",
    "accuracy_vs_k_lots <- ggplot(accuracy, aes(x = k, y = Accuracy)) +\n",
    "  geom_point() +\n",
    "  geom_line()\n",
    "accuracy_vs_k_lots"
   ]
  },
  {
   "cell_type": "code",
   "execution_count": 13,
   "metadata": {
    "scrolled": false
   },
   "outputs": [
    {
     "data": {
      "image/png": "[encoded data removed]",
      "text/plain": [
       "plot without title"
      ]
     },
     "metadata": {
      "image/png": {
       "height": 300,
       "width": 300
      },
      "text/plain": {
       "height": 300,
       "width": 300
      }
     },
     "output_type": "display_data"
    }
   ],
   "source": [
    "#choosing K(2)\n",
    "train_control <- trainControl(method=\"cv\", number = 10)\n",
    "k = data.frame(k = c(1,3,5,7,9,11,13,15,17,19))\n",
    "\n",
    "knn_model_cv_10fold <- train(x = X_train_a, y = Y_train, method = \"knn\", tuneGrid = k, trControl = train_control)\n",
    "accuracy_2 <-knn_model_cv_10fold$results\n",
    "\n",
    "accuracy_vs_k <- ggplot(accuracy_2, aes(x = k, y = Accuracy)) +\n",
    "  geom_point() +\n",
    "  geom_line()\n",
    "\n",
    "accuracy_vs_k"
   ]
  },
  {
   "cell_type": "markdown",
   "metadata": {},
   "source": [
    "### 4.2b Friend_Count, Liked_Count"
   ]
  },
  {
   "cell_type": "code",
   "execution_count": 14,
   "metadata": {},
   "outputs": [],
   "source": [
    "# Split data into training and test sets\n",
    "X_train_b <- training_set %>% \n",
    "    select(Friend_Count, Liked_Count) %>% \n",
    "    data.frame()\n",
    "\n",
    "X_test_b <- test_set %>% \n",
    "    select(Friend_Count, Liked_Count) %>% \n",
    "    data.frame()"
   ]
  },
  {
   "cell_type": "code",
   "execution_count": 15,
   "metadata": {},
   "outputs": [
    {
     "data": {
      "image/png": "[encoded data removed]",
      "text/plain": [
       "plot without title"
      ]
     },
     "metadata": {
      "image/png": {
       "height": 300,
       "width": 300
      },
      "text/plain": {
       "height": 300,
       "width": 300
      }
     },
     "output_type": "display_data"
    }
   ],
   "source": [
    "# Choosing K (1)\n",
    "train_control <- trainControl(method=\"cv\", number = 10)\n",
    "k = data.frame(k = seq(from = 1, to = 200, by = 10))\n",
    "\n",
    "knn_model_cv_10fold <- train(x = X_train_b, y = Y_train, method = \"knn\", tuneGrid = k, trControl = train_control)\n",
    "\n",
    "accuracy <-knn_model_cv_10fold$results\n",
    "accuracy_vs_k_lots <- ggplot(accuracy, aes(x = k, y = Accuracy)) +\n",
    "  geom_point() +\n",
    "  geom_line()\n",
    "accuracy_vs_k_lots"
   ]
  },
  {
   "cell_type": "code",
   "execution_count": 16,
   "metadata": {
    "scrolled": false
   },
   "outputs": [
    {
     "data": {
      "image/png": "[encoded data removed]",
      "text/plain": [
       "plot without title"
      ]
     },
     "metadata": {
      "image/png": {
       "height": 300,
       "width": 300
      },
      "text/plain": {
       "height": 300,
       "width": 300
      }
     },
     "output_type": "display_data"
    }
   ],
   "source": [
    "#choosing K(2)\n",
    "train_control <- trainControl(method=\"cv\", number = 10)\n",
    "k = data.frame(k = c(1,3,5,7,9,11,13,15,17,19))\n",
    "\n",
    "knn_model_cv_10fold <- train(x = X_train_b, y = Y_train, method = \"knn\", tuneGrid = k, trControl = train_control)\n",
    "accuracy_2 <-knn_model_cv_10fold$results\n",
    "\n",
    "accuracy_vs_k <- ggplot(accuracy_2, aes(x = k, y = Accuracy)) +\n",
    "  geom_point() +\n",
    "  geom_line()\n",
    "\n",
    "accuracy_vs_k"
   ]
  },
  {
   "cell_type": "markdown",
   "metadata": {},
   "source": [
    "## 4.3 Training Error \n"
   ]
  },
  {
   "cell_type": "code",
   "execution_count": 17,
   "metadata": {},
   "outputs": [
    {
     "data": {
      "text/html": [
       "<strong>Accuracy:</strong> 1"
      ],
      "text/latex": [
       "\\textbf{Accuracy:} 1"
      ],
      "text/markdown": [
       "**Accuracy:** 1"
      ],
      "text/plain": [
       "Accuracy \n",
       "       1 "
      ]
     },
     "metadata": {},
     "output_type": "display_data"
    }
   ],
   "source": [
    "#4.2a Follower_Count and Post_Count\n",
    "error <- train(x = X_train_a, y = Y_train, method = \"knn\", tuneGrid = data.frame(k=1))\n",
    "training_pred <- predict(object=error, X_train_a)\n",
    "training_results <- confusionMatrix(training_pred, Y_train)\n",
    "training_results$overall[1]"
   ]
  },
  {
   "cell_type": "code",
   "execution_count": 18,
   "metadata": {},
   "outputs": [
    {
     "data": {
      "text/html": [
       "<strong>Accuracy:</strong> 0.994513031550069"
      ],
      "text/latex": [
       "\\textbf{Accuracy:} 0.994513031550069"
      ],
      "text/markdown": [
       "**Accuracy:** 0.994513031550069"
      ],
      "text/plain": [
       "Accuracy \n",
       "0.994513 "
      ]
     },
     "metadata": {},
     "output_type": "display_data"
    }
   ],
   "source": [
    "#4.2b Friend_Count and  Liked_Count\n",
    "error <- train(x = X_train_b, y = Y_train, method = \"knn\", tuneGrid = data.frame(k=1))\n",
    "training_pred <- predict(object=error, X_train_b)\n",
    "training_results <- confusionMatrix(training_pred, Y_train)\n",
    "training_results$overall[1]"
   ]
  },
  {
   "cell_type": "markdown",
   "metadata": {},
   "source": [
    "## 4.4 Result (Test Data)"
   ]
  },
  {
   "cell_type": "code",
   "execution_count": 51,
   "metadata": {},
   "outputs": [
    {
     "data": {
      "text/html": [
       "<strong>Accuracy:</strong> 0.995884773662551"
      ],
      "text/latex": [
       "\\textbf{Accuracy:} 0.995884773662551"
      ],
      "text/markdown": [
       "**Accuracy:** 0.995884773662551"
      ],
      "text/plain": [
       " Accuracy \n",
       "0.9958848 "
      ]
     },
     "metadata": {},
     "output_type": "display_data"
    }
   ],
   "source": [
    "#4.2a Follower_Count and Post_Count\n",
    "k = data.frame(k = 1)\n",
    "model_knn_a <- train(x = X_train_a, y = Y_train, method = \"knn\", tuneGrid = k)\n",
    "\n",
    "Y_test_predicted_a <- predict(object = model_knn_a, X_test_a)\n",
    "\n",
    "model_quality_a <- confusionMatrix(data = Y_test_predicted_a, reference = Y_test)\n",
    "model_quality_a$overall[1]"
   ]
  },
  {
   "cell_type": "code",
   "execution_count": 22,
   "metadata": {},
   "outputs": [
    {
     "data": {
      "text/html": [
       "<strong>Accuracy:</strong> 0.98559670781893"
      ],
      "text/latex": [
       "\\textbf{Accuracy:} 0.98559670781893"
      ],
      "text/markdown": [
       "**Accuracy:** 0.98559670781893"
      ],
      "text/plain": [
       " Accuracy \n",
       "0.9855967 "
      ]
     },
     "metadata": {},
     "output_type": "display_data"
    }
   ],
   "source": [
    "#4.2b Friend_Count and  Liked_Count\n",
    "k = data.frame(k = 1)\n",
    "model_knn_b <- train(x = X_train_b, y = Y_train, method = \"knn\", tuneGrid = k)\n",
    "\n",
    "Y_test_predicted_b <- predict(object = model_knn_b, X_test_b)\n",
    "\n",
    "model_quality_b <- confusionMatrix(data = Y_test_predicted_b, reference = Y_test)\n",
    "model_quality_b$overall[1]"
   ]
  },
  {
   "cell_type": "code",
   "execution_count": 132,
   "metadata": {},
   "outputs": [
    {
     "data": {
      "image/png": "[encoded data removed]",
      "text/plain": [
       "plot without title"
      ]
     },
     "metadata": {
      "image/png": {
       "height": 480,
       "width": 480
      },
      "text/plain": {
       "height": 480,
       "width": 480
      }
     },
     "output_type": "display_data"
    }
   ],
   "source": [
    "options(repr.plot.width = 8, repr.plot.height = 8) \n",
    "a <- data.frame(classifier=\"4.2a\",accuracy=model_quality_a$overall[1]) \n",
    "rownames(a) <- c()\n",
    "b <- data.frame(classifier=\"4.2b\",accuracy=model_quality_b$overall[1]) \n",
    "rownames(b) <- c()\n",
    "\n",
    "rbind(a,b) %>% ggplot(aes(x=classifier,y=accuracy*100))+\n",
    "    geom_bar(stat = \"identity\")+\n",
    "    labs(x=\"Classifier\",y=\"Accuracy(%)\",cex.lab=10)+\n",
    "    theme(text = element_text(size = 18))\n",
    "    "
   ]
  },
  {
   "cell_type": "markdown",
   "metadata": {},
   "source": [
    "#  <font color=red> 5. Expected Outcomes and Significance</font>\n",
    "\n",
    "- What do you expect to find?\n",
    "- What impact could such findings have?\n",
    "- What future questions could this lead to?\n"
   ]
  }
 ],
 "metadata": {
  "kernelspec": {
   "display_name": "R",
   "language": "R",
   "name": "ir"
  },
  "language_info": {
   "codemirror_mode": "r",
   "file_extension": ".r",
   "mimetype": "text/x-r-source",
   "name": "R",
   "pygments_lexer": "r",
   "version": "3.6.1"
  }
 },
 "nbformat": 4,
 "nbformat_minor": 4
}
